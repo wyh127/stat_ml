{
 "cells": [
  {
   "cell_type": "markdown",
   "metadata": {},
   "source": [
    "# HW5"
   ]
  },
  {
   "cell_type": "markdown",
   "metadata": {},
   "source": [
    "### NAME: Yuhao Wang\n",
    "### UNI: yw3204"
   ]
  },
  {
   "cell_type": "markdown",
   "metadata": {},
   "source": [
    "### Problem 1"
   ]
  },
  {
   "cell_type": "markdown",
   "metadata": {},
   "source": [
    "1.\n",
    "\n",
    "The ridge regression optimization problem in this setting is:\n",
    "\n",
    "$\\beta =  argmin_\\beta [y_1-(\\beta_1x_{11}+\\beta_2x_{12})]^2+[y_2-(\\beta_1x_{21}+\\beta_2x_{22})]^2+\\lambda*(\\beta_1^2+\\beta_2^2)$\n",
    "\n",
    "$= argmin_\\beta [y_1-(\\beta_1x_{11}+\\beta_2x_{12})]^2+[y_1-(\\beta_1x_{11}+\\beta_2x_{12})]^2+\\lambda*(\\beta_1^2+\\beta_2^2)$\n",
    "\n",
    "$= argmin_\\beta 2*[y_1-(\\beta_1x_{11}+\\beta_2x_{12})]^2+\\lambda*(\\beta_1^2+\\beta_2^2)$\n",
    "\n",
    "$= argmin_\\beta 2*[y_1-(\\beta_1+\\beta_2)x_{11}]^2+\\lambda*(\\beta_1^2+\\beta_2^2)$"
   ]
  },
  {
   "cell_type": "markdown",
   "metadata": {},
   "source": [
    "2.\n",
    "\n",
    "Based on question 1, we take derivative w.r.t. $\\beta_1$ and $\\beta_2$ seperately and set them to 0:\n",
    "\n",
    "$-4*[y_1-(\\beta_1+\\beta_2)x_{11}]*x_{11} + 2\\lambda*\\beta_1 = 0$\n",
    "\n",
    "$-4*[y_1-(\\beta_1+\\beta_2)x_{11}]*x_{11} + 2\\lambda*\\beta_2 = 0$\n",
    "\n",
    "According to symmetry, it is obvious that $\\hat{\\beta}_1 = \\hat{\\beta}_2$.\n",
    "\n",
    "More accurately, the solution is:\n",
    "\n",
    "$\\hat{\\beta}_1 = \\hat{\\beta}_2 = \\frac{2y_1x_{11}}{\\lambda+4x_{11}^2}$"
   ]
  },
  {
   "cell_type": "markdown",
   "metadata": {},
   "source": [
    "3.\n",
    "\n",
    "Similarly, the lasso optimizaton is:\n",
    "\n",
    "$\\beta = argmin_\\beta 2*[y_1-(\\beta_1+\\beta_2)x_{11}]^2+\\lambda*(|\\beta_1|+|\\beta_2|)$\n",
    "\n",
    "or \n",
    "\n",
    "$\\beta = argmin_\\beta 2*[y_1-(\\beta_1+\\beta_2)x_{11}]^2 s.t. |\\beta_1|+|\\beta_2| \\le s$"
   ]
  },
  {
   "cell_type": "markdown",
   "metadata": {},
   "source": [
    "4.\n",
    "\n",
    "Notice that the unconstrained problem of the lasso optimization in question 3 is $2*[y_1-(\\beta_1+\\beta_2)x_{11}]^2$, which reaches the minimum at $\\beta_1+\\beta_2 = \\frac{y_1}{x_{11}}$ and whose contour are two paralleing lines. Then, it is not hard to imagine that the constrained problem reaches the minimum at either $\\beta_1+\\beta_2 = s$ or $\\beta_1+\\beta_2 = -s$.\n",
    "\n",
    "More specifically, the solution is $\\{(\\beta_1, \\beta_2)| \\beta_1+\\beta_2 = s, 0 \\le \\beta_1 \\le s\\}$ when $\\frac{y_1}{x_{11}} > s$ and $\\{(\\beta_1, \\beta_2)| \\beta_1+\\beta_2 = -s, -s \\le \\beta_1 \\le 0\\}$ when $\\frac{y_1}{x_{11}} < -s$"
   ]
  },
  {
   "cell_type": "markdown",
   "metadata": {},
   "source": [
    "### Problem 2"
   ]
  },
  {
   "cell_type": "markdown",
   "metadata": {},
   "source": [
    "<img src=\"pic2.jpg\" width=600>"
   ]
  },
  {
   "cell_type": "markdown",
   "metadata": {},
   "source": [
    "### Problem 3"
   ]
  },
  {
   "cell_type": "markdown",
   "metadata": {},
   "source": [
    "Using the majority vote approach, the final claasification will be red while using the average probability the final classification will be green."
   ]
  },
  {
   "cell_type": "markdown",
   "metadata": {},
   "source": [
    "### Problem 4"
   ]
  },
  {
   "cell_type": "code",
   "execution_count": 57,
   "metadata": {},
   "outputs": [],
   "source": [
    "import numpy as np\n",
    "import matplotlib.pyplot as plt\n",
    "%matplotlib inline\n",
    "from sklearn.model_selection import KFold\n",
    "from sklearn.model_selection import train_test_split"
   ]
  },
  {
   "cell_type": "code",
   "execution_count": 59,
   "metadata": {},
   "outputs": [],
   "source": [
    "# load data\n",
    "path1 = \"/Users/apple/Desktop/semester_2/4.Stat_ML/hw/hw3/train_3.txt\"\n",
    "path2 = \"/Users/apple/Desktop/semester_2/4.Stat_ML/hw/hw3/train_8.txt\"\n",
    "\n",
    "X3=np.loadtxt(path1, delimiter=',')\n",
    "X8=np.loadtxt(path2, delimiter=',')\n",
    "\n",
    "y3=np.repeat(-1, len(X3))\n",
    "y8=np.repeat(1, len(X8))\n",
    "\n",
    "X=np.concatenate((X3, X8), axis=0)\n",
    "y=np.concatenate((y3, y8), axis=0)\n",
    "\n",
    "X_train, X_test, y_train, y_test = train_test_split(X, y, test_size=0.2, random_state=0)"
   ]
  },
  {
   "cell_type": "code",
   "execution_count": 60,
   "metadata": {},
   "outputs": [],
   "source": [
    "# 1. AdaBoost Alg.\n",
    "def adaBoost(X, y, B, train, classify, weighted_err):    \n",
    "    alpha = []\n",
    "    allPars = []\n",
    "\n",
    "    B = 10\n",
    "    n = len(X)\n",
    "\n",
    "    w = [1/n]*n\n",
    "\n",
    "    for i in range(B):\n",
    "        pars = train(X, w, y)\n",
    "        epsilon = weighted_err(X, y, pars, w)\n",
    "        a = np.log(1/epsilon-1)\n",
    "\n",
    "        for i in range(len(w)):\n",
    "            if y[i]!=classify(X[i], pars):\n",
    "                w[i]=w[i]*np.exp(a)\n",
    "\n",
    "        alpha.append(a)\n",
    "        allPars.append(pars)\n",
    "        \n",
    "    return alpha, allPars"
   ]
  },
  {
   "cell_type": "code",
   "execution_count": 72,
   "metadata": {},
   "outputs": [],
   "source": [
    "# 2. Decision Stumps\n",
    "def train(X, w, y):\n",
    "    pars = [0, 0, 0]\n",
    "    err = 1\n",
    "\n",
    "    for m in [-1, 1]:\n",
    "        for j in range(len(X[0])):\n",
    "            for theta in np.unique(X[:, j]):\n",
    "                new_err = weighted_err(X, y, [j, theta, m], w)\n",
    "                if new_err < err:\n",
    "                    pars = [j, theta, m]\n",
    "                    err = new_err\n",
    "    \n",
    "    return  pars#j, theta, m\n",
    "\n",
    "\n",
    "def weighted_err(X, y, pars, w):\n",
    "    # scale weight\n",
    "    w_sum = sum(w)\n",
    "    w = [i/w_sum for i in w]\n",
    "    \n",
    "    err = 0\n",
    "    for i in range(len(X)):\n",
    "        pred=classify(X[i], pars)\n",
    "        if y[i] != pred:\n",
    "            err += w[i]\n",
    "        else:\n",
    "            continue\n",
    "            \n",
    "    return err\n",
    "    \n",
    "    \n",
    "def classify(x, pars):\n",
    "    j, theta, m = pars[0], pars[1], pars[2] \n",
    "    \n",
    "    if x[j] > theta:\n",
    "        return m\n",
    "    else:\n",
    "        return -m\n",
    "    \n",
    "    \n",
    "def agg_class(x, alpha, allPars):\n",
    "    score = 0\n",
    "    \n",
    "    for i in range(len(alpha)):        \n",
    "        score += alpha[i]*classify(x, allPars[i])\n",
    "    \n",
    "    if score>0:\n",
    "        return 1 \n",
    "    else:\n",
    "        return -1"
   ]
  },
  {
   "cell_type": "code",
   "execution_count": 62,
   "metadata": {},
   "outputs": [],
   "source": [
    "# 3. \n",
    "alpha, allPars = adaBoost(X_train, y_train, 10, train, classify, weighted_err)"
   ]
  },
  {
   "cell_type": "code",
   "execution_count": 82,
   "metadata": {},
   "outputs": [
    {
     "data": {
      "image/png": "[encoded data removed]",
      "text/plain": [
       "<Figure size 432x288 with 1 Axes>"
      ]
     },
     "metadata": {
      "needs_background": "light"
     },
     "output_type": "display_data"
    }
   ],
   "source": [
    "# 4. test error plots\n",
    "err = []\n",
    "for b in range(10):\n",
    "    cnt = 0\n",
    "    for i in range(len(X_test)):\n",
    "        if y_test[i] != agg_class(X_test[i], alpha[:b], allPars[:b]):\n",
    "            cnt += 1\n",
    "    err.append(cnt/len(y_test))\n",
    "    \n",
    "plt.plot(err)\n",
    "plt.ylabel(\"test error\")\n",
    "plt.show()"
   ]
  }
 ],
 "metadata": {
  "kernelspec": {
   "display_name": "Python 3",
   "language": "python",
   "name": "python3"
  },
  "language_info": {
   "codemirror_mode": {
    "name": "ipython",
    "version": 3
   },
   "file_extension": ".py",
   "mimetype": "text/x-python",
   "name": "python",
   "nbconvert_exporter": "python",
   "pygments_lexer": "ipython3",
   "version": "3.7.1"
  }
 },
 "nbformat": 4,
 "nbformat_minor": 2
}
