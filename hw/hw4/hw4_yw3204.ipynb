{
 "cells": [
  {
   "cell_type": "markdown",
   "metadata": {},
   "source": [
    "# HW4"
   ]
  },
  {
   "cell_type": "markdown",
   "metadata": {},
   "source": [
    "### NAME: Yuhao Wang\n",
    "### UNI: yw3204"
   ]
  },
  {
   "cell_type": "markdown",
   "metadata": {},
   "source": [
    "### Problem 1"
   ]
  },
  {
   "cell_type": "markdown",
   "metadata": {},
   "source": [
    "1. $d^2(x, x') = <x, x> - 2<x, x'> + <x', x'>$"
   ]
  },
  {
   "cell_type": "markdown",
   "metadata": {},
   "source": [
    "2. $d_K^2(x, x') = <\\phi(x), \\phi(x)> - 2<\\phi(x), \\phi(x')> + <\\phi(x'), \\phi(x')> = K(x, x)-2K(x, x')+K(x', x')$"
   ]
  },
  {
   "cell_type": "markdown",
   "metadata": {},
   "source": [
    "3. It calculates the Euclidean distance in the feature space w.r.t the feature mapping $\\phi$."
   ]
  },
  {
   "cell_type": "markdown",
   "metadata": {},
   "source": [
    "### Problem 2"
   ]
  },
  {
   "cell_type": "code",
   "execution_count": 4,
   "metadata": {},
   "outputs": [],
   "source": [
    "import pandas as pd\n",
    "import numpy as np\n",
    "import matplotlib.pyplot as plt\n",
    "\n",
    "plt.style.use(\"ggplot\")\n",
    "%matplotlib inline"
   ]
  },
  {
   "cell_type": "code",
   "execution_count": 54,
   "metadata": {},
   "outputs": [],
   "source": [
    "# load data\n",
    "credit_data = pd.read_csv(\"/Users/apple/Desktop/semester_2/4.Stat_ML/hw/hw4/Credit.csv\")\n",
    "credit_data = credit_data.drop(credit_data.columns[[0]], axis = 1)\n",
    "\n",
    "# coding dummy variables\n",
    "credit_data[\"Gender\"] = [0 if i == \"Female\" else 1 for i in credit_data[\"Gender\"]]\n",
    "credit_data[\"Student\"] = [0 if i == \"No\" else 1 for i in credit_data[\"Student\"]]\n",
    "credit_data[\"Married\"] = [0 if i == \"No\" else 1 for i in credit_data[\"Married\"]]\n",
    "\n",
    "credit_data[\"Ethnicity1\"] = 0\n",
    "credit_data = credit_data[['Income', 'Limit', 'Rating', 'Cards', 'Age', 'Education', 'Gender', \n",
    "             'Student', 'Married', 'Ethnicity', 'Ethnicity1', 'Balance']]\n",
    "credit_data[\"Ethnicity1\"] = [1 if i == \"Asian\" else 0 for i in credit_data[\"Ethnicity\"]]\n",
    "credit_data[\"Ethnicity\"] = [1 if i == \"Caucasian\" else 0 for i in credit_data[\"Ethnicity\"]]\n",
    "\n",
    "# credit_data.head()"
   ]
  },
  {
   "cell_type": "code",
   "execution_count": 23,
   "metadata": {},
   "outputs": [],
   "source": []
  },
  {
   "cell_type": "code",
   "execution_count": null,
   "metadata": {},
   "outputs": [],
   "source": []
  },
  {
   "cell_type": "code",
   "execution_count": 57,
   "metadata": {},
   "outputs": [
    {
     "data": {
      "text/html": [
       "<div>\n",
       "<style scoped>\n",
       "    .dataframe tbody tr th:only-of-type {\n",
       "        vertical-align: middle;\n",
       "    }\n",
       "\n",
       "    .dataframe tbody tr th {\n",
       "        vertical-align: top;\n",
       "    }\n",
       "\n",
       "    .dataframe thead th {\n",
       "        text-align: right;\n",
       "    }\n",
       "</style>\n",
       "<table border=\"1\" class=\"dataframe\">\n",
       "  <thead>\n",
       "    <tr style=\"text-align: right;\">\n",
       "      <th></th>\n",
       "      <th>Income</th>\n",
       "      <th>Limit</th>\n",
       "      <th>Rating</th>\n",
       "      <th>Cards</th>\n",
       "      <th>Age</th>\n",
       "      <th>Education</th>\n",
       "      <th>Gender</th>\n",
       "      <th>Student</th>\n",
       "      <th>Married</th>\n",
       "      <th>Ethnicity</th>\n",
       "      <th>Ethnicity1</th>\n",
       "      <th>Balance</th>\n",
       "    </tr>\n",
       "  </thead>\n",
       "  <tbody>\n",
       "    <tr>\n",
       "      <th>0</th>\n",
       "      <td>14.891</td>\n",
       "      <td>3606</td>\n",
       "      <td>283</td>\n",
       "      <td>2</td>\n",
       "      <td>34</td>\n",
       "      <td>11</td>\n",
       "      <td>1</td>\n",
       "      <td>0</td>\n",
       "      <td>1</td>\n",
       "      <td>1</td>\n",
       "      <td>0</td>\n",
       "      <td>333</td>\n",
       "    </tr>\n",
       "    <tr>\n",
       "      <th>1</th>\n",
       "      <td>106.025</td>\n",
       "      <td>6645</td>\n",
       "      <td>483</td>\n",
       "      <td>3</td>\n",
       "      <td>82</td>\n",
       "      <td>15</td>\n",
       "      <td>0</td>\n",
       "      <td>1</td>\n",
       "      <td>1</td>\n",
       "      <td>0</td>\n",
       "      <td>1</td>\n",
       "      <td>903</td>\n",
       "    </tr>\n",
       "    <tr>\n",
       "      <th>2</th>\n",
       "      <td>104.593</td>\n",
       "      <td>7075</td>\n",
       "      <td>514</td>\n",
       "      <td>4</td>\n",
       "      <td>71</td>\n",
       "      <td>11</td>\n",
       "      <td>1</td>\n",
       "      <td>0</td>\n",
       "      <td>0</td>\n",
       "      <td>0</td>\n",
       "      <td>1</td>\n",
       "      <td>580</td>\n",
       "    </tr>\n",
       "    <tr>\n",
       "      <th>3</th>\n",
       "      <td>148.924</td>\n",
       "      <td>9504</td>\n",
       "      <td>681</td>\n",
       "      <td>3</td>\n",
       "      <td>36</td>\n",
       "      <td>11</td>\n",
       "      <td>0</td>\n",
       "      <td>0</td>\n",
       "      <td>0</td>\n",
       "      <td>0</td>\n",
       "      <td>1</td>\n",
       "      <td>964</td>\n",
       "    </tr>\n",
       "    <tr>\n",
       "      <th>4</th>\n",
       "      <td>55.882</td>\n",
       "      <td>4897</td>\n",
       "      <td>357</td>\n",
       "      <td>2</td>\n",
       "      <td>68</td>\n",
       "      <td>16</td>\n",
       "      <td>1</td>\n",
       "      <td>0</td>\n",
       "      <td>1</td>\n",
       "      <td>1</td>\n",
       "      <td>0</td>\n",
       "      <td>331</td>\n",
       "    </tr>\n",
       "  </tbody>\n",
       "</table>\n",
       "</div>"
      ],
      "text/plain": [
       "    Income  Limit  Rating  Cards  Age  Education  Gender  Student  Married  \\\n",
       "0   14.891   3606     283      2   34         11       1        0        1   \n",
       "1  106.025   6645     483      3   82         15       0        1        1   \n",
       "2  104.593   7075     514      4   71         11       1        0        0   \n",
       "3  148.924   9504     681      3   36         11       0        0        0   \n",
       "4   55.882   4897     357      2   68         16       1        0        1   \n",
       "\n",
       "   Ethnicity  Ethnicity1  Balance  \n",
       "0          1           0      333  \n",
       "1          0           1      903  \n",
       "2          0           1      580  \n",
       "3          0           1      964  \n",
       "4          1           0      331  "
      ]
     },
     "execution_count": 57,
     "metadata": {},
     "output_type": "execute_result"
    }
   ],
   "source": []
  },
  {
   "cell_type": "code",
   "execution_count": null,
   "metadata": {},
   "outputs": [],
   "source": []
  },
  {
   "cell_type": "code",
   "execution_count": null,
   "metadata": {},
   "outputs": [],
   "source": []
  },
  {
   "cell_type": "markdown",
   "metadata": {},
   "source": [
    "### Problem 3"
   ]
  },
  {
   "cell_type": "code",
   "execution_count": 1,
   "metadata": {},
   "outputs": [],
   "source": [
    "import pandas as pd\n",
    "import numpy as np\n",
    "import matplotlib.pyplot as plt\n",
    "from sklearn import svm\n",
    "from sklearn.model_selection import KFold\n",
    "import seaborn as sns\n",
    "\n",
    "%matplotlib inline\n",
    "plt.style.use(\"ggplot\")"
   ]
  },
  {
   "cell_type": "code",
   "execution_count": 2,
   "metadata": {},
   "outputs": [],
   "source": [
    "# load data\n",
    "x5 = pd.read_csv(\"/Users/apple/Desktop/semester_2/4.Stat_ML/hw/hw4/train.5.txt\", header = None)\n",
    "x6 = pd.read_csv(\"/Users/apple/Desktop/semester_2/4.Stat_ML/hw/hw4/train.6.txt\", header = None)\n",
    "\n",
    "y5 = np.repeat(-1, x5.shape[0])\n",
    "y6 = np.repeat(1, x6.shape[0])\n",
    "\n",
    "x = pd.concat([x5, x6], ignore_index=True)\n",
    "y = np.concatenate([y5, y6])\n",
    "\n",
    "np.random.seed(0)\n",
    "ind = np.random.choice(len(y), int(0.2*len(y)), replace=False)\n",
    "test_ind = [i in ind for i in range(len(y))]\n",
    "train_ind = [i not in ind for i in range(len(y))]\n",
    "\n",
    "test_x = x.loc[test_ind, :]\n",
    "test_x = test_x.reset_index(drop=True)\n",
    "test_y = y[test_ind, ]\n",
    "\n",
    "train_x = x.loc[train_ind, :]\n",
    "train_x = train_x.reset_index(drop=True)\n",
    "train_y = y[train_ind, ]"
   ]
  },
  {
   "cell_type": "code",
   "execution_count": null,
   "metadata": {
    "scrolled": false
   },
   "outputs": [],
   "source": [
    "# cross validation error\n",
    "def cv(x, y, m, k=4):\n",
    "    kf = KFold(n_splits=k)\n",
    "    err = []\n",
    "    \n",
    "    for train_ind, val_ind in kf.split(x):\n",
    "        x_train, x_val = x.loc[train_ind], x.loc[val_ind]\n",
    "        y_train, y_val = y[train_ind], y[val_ind]\n",
    "        m.fit(x_train, y_train)\n",
    "        err.append(sum(m.predict(x_val) != y_val))\n",
    "    \n",
    "    cv_err = np.sum(err)/len(y)\n",
    "    return cv_err"
   ]
  },
  {
   "cell_type": "code",
   "execution_count": 55,
   "metadata": {},
   "outputs": [
    {
     "data": {
      "image/png": "[encoded data removed]",
      "text/plain": [
       "<Figure size 432x288 with 1 Axes>"
      ]
     },
     "metadata": {
      "needs_background": "light"
     },
     "output_type": "display_data"
    }
   ],
   "source": [
    "# 1. (a)\n",
    "# margin parameters\n",
    "Cs = [1e-4, 1e-3, 1e-2, 0.05, 1e-1]\n",
    "\n",
    "CV_errs = []\n",
    "\n",
    "for i in Cs:\n",
    "    tmp_svm = svm.SVC(kernel=\"linear\", C = i)\n",
    "    CV_errs.append(cv(train_x, train_y, tmp_svm))\n",
    "    \n",
    "plt.plot(Cs, CV_errs)\n",
    "plt.show()"
   ]
  },
  {
   "cell_type": "code",
   "execution_count": 51,
   "metadata": {},
   "outputs": [
    {
     "data": {
      "image/png": "[encoded data removed]",
      "text/plain": [
       "<Figure size 432x288 with 2 Axes>"
      ]
     },
     "metadata": {
      "needs_background": "light"
     },
     "output_type": "display_data"
    }
   ],
   "source": [
    "# 1. (b)\n",
    "\n",
    "Cs = [0.01, 0.1, 0.5, 1, 5]\n",
    "gammas = [1e-5, 1e-4, 1e-3, 0.003]\n",
    "\n",
    "CV_mat = [[] for i in range(len(Cs))]\n",
    "\n",
    "for i in range(len(Cs)):\n",
    "    for j in range(len(gammas)):\n",
    "        tmp_svm = svm.SVC(C = Cs[i], gamma = gammas[j])\n",
    "        CV_mat[i].append(cv(train_x, train_y, tmp_svm))\n",
    "    \n",
    "sns.heatmap(CV_mat, cmap=\"YlGnBu\")\n",
    "plt.show()"
   ]
  },
  {
   "cell_type": "code",
   "execution_count": null,
   "metadata": {
    "scrolled": true
   },
   "outputs": [],
   "source": [
    "# 2.\n"
   ]
  },
  {
   "cell_type": "code",
   "execution_count": null,
   "metadata": {
    "scrolled": true
   },
   "outputs": [],
   "source": []
  },
  {
   "cell_type": "code",
   "execution_count": null,
   "metadata": {
    "scrolled": true
   },
   "outputs": [],
   "source": []
  },
  {
   "cell_type": "code",
   "execution_count": null,
   "metadata": {
    "scrolled": true
   },
   "outputs": [],
   "source": []
  },
  {
   "cell_type": "code",
   "execution_count": null,
   "metadata": {},
   "outputs": [],
   "source": []
  },
  {
   "cell_type": "code",
   "execution_count": null,
   "metadata": {
    "scrolled": false
   },
   "outputs": [],
   "source": []
  },
  {
   "cell_type": "code",
   "execution_count": null,
   "metadata": {},
   "outputs": [],
   "source": []
  },
  {
   "cell_type": "code",
   "execution_count": null,
   "metadata": {},
   "outputs": [],
   "source": []
  },
  {
   "cell_type": "code",
   "execution_count": null,
   "metadata": {},
   "outputs": [],
   "source": []
  },
  {
   "cell_type": "code",
   "execution_count": null,
   "metadata": {},
   "outputs": [],
   "source": []
  }
 ],
 "metadata": {
  "kernelspec": {
   "display_name": "Python 3",
   "language": "python",
   "name": "python3"
  },
  "language_info": {
   "codemirror_mode": {
    "name": "ipython",
    "version": 3
   },
   "file_extension": ".py",
   "mimetype": "text/x-python",
   "name": "python",
   "nbconvert_exporter": "python",
   "pygments_lexer": "ipython3",
   "version": "3.7.1"
  }
 },
 "nbformat": 4,
 "nbformat_minor": 2
}
