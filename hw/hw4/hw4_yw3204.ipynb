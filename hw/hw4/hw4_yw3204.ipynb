{
 "cells": [
  {
   "cell_type": "markdown",
   "metadata": {},
   "source": [
    "# HW4"
   ]
  },
  {
   "cell_type": "markdown",
   "metadata": {},
   "source": [
    "### NAME: Yuhao Wang\n",
    "### UNI: yw3204"
   ]
  },
  {
   "cell_type": "markdown",
   "metadata": {},
   "source": [
    "### Problem 1"
   ]
  },
  {
   "cell_type": "markdown",
   "metadata": {},
   "source": [
    "1. $d^2(x, x^\\prime) = \\langle x, x\\rangle - 2\\langle x, x^\\prime\\rangle + \\langle x', x^\\prime\\rangle$"
   ]
  },
  {
   "cell_type": "markdown",
   "metadata": {},
   "source": [
    "2. $d_K^2(x, x^\\prime) = \\langle \\phi(x), \\phi(x)\\rangle - 2\\langle \\phi(x), \\phi(x^\\prime)\\rangle + \\langle \\phi(x^\\prime), \\phi(x^\\prime)\\rangle = K(x, x)-2K(x, x^\\prime)+K(x^\\prime, x^\\prime)$"
   ]
  },
  {
   "cell_type": "markdown",
   "metadata": {},
   "source": [
    "3. It calculates the Euclidean distance in the feature space w.r.t the feature mapping $\\phi$."
   ]
  },
  {
   "cell_type": "markdown",
   "metadata": {},
   "source": [
    "### Problem 2"
   ]
  },
  {
   "cell_type": "code",
   "execution_count": 1,
   "metadata": {},
   "outputs": [],
   "source": [
    "import pandas as pd\n",
    "import numpy as np\n",
    "import matplotlib.pyplot as plt\n",
    "import itertools\n",
    "from sklearn import linear_model\n",
    "from sklearn.metrics import mean_squared_error\n",
    "\n",
    "plt.style.use(\"ggplot\")\n",
    "%matplotlib inline"
   ]
  },
  {
   "cell_type": "code",
   "execution_count": 28,
   "metadata": {},
   "outputs": [],
   "source": [
    "# load data\n",
    "credit_data = pd.read_csv(\"/Users/apple/Desktop/semester_2/4.Stat_ML/hw/hw4/Credit.csv\")\n",
    "credit_data = credit_data.drop(credit_data.columns[[0]], axis = 1)\n",
    "\n",
    "# dummy variables \n",
    "credit_data[\"Gender\"] = [0 if i == \"Female\" else 1 for i in credit_data[\"Gender\"]]\n",
    "credit_data[\"Student\"] = [0 if i == \"No\" else 1 for i in credit_data[\"Student\"]]\n",
    "credit_data[\"Married\"] = [0 if i == \"No\" else 1 for i in credit_data[\"Married\"]]\n",
    "\n",
    "credit_data[\"Asian\"] = [1 if i == \"Asian\" else 0 for i in credit_data[\"Ethnicity\"]]\n",
    "credit_data[\"Ethnicity\"] = [1 if i == \"Caucasian\" else 0 for i in credit_data[\"Ethnicity\"]]\n",
    "credit_data = credit_data.rename(columns={'Ethnicity': 'Caucasian'})\n",
    "\n",
    "Y = credit_data.Balance\n",
    "X = credit_data.drop(columns = 'Balance', axis = 1)\n",
    "k = 11"
   ]
  },
  {
   "cell_type": "code",
   "execution_count": 87,
   "metadata": {},
   "outputs": [],
   "source": [
    "# reference to: \"https://xavierbourretsicotte.github.io/subset_selection.html\"\n",
    "# helper function\n",
    "def fit_linear_reg(X, Y):\n",
    "    # Fit linear regression model and return RSS\n",
    "    model = linear_model.LinearRegression(fit_intercept = True)\n",
    "    model.fit(X, Y)\n",
    "    RSS = mean_squared_error(Y, model.predict(X)) * len(Y)\n",
    "    return RSS"
   ]
  },
  {
   "cell_type": "code",
   "execution_count": 122,
   "metadata": {},
   "outputs": [],
   "source": [
    "# best subset\n",
    "RSS_list, feature_list, numb_features = [], [], []\n",
    "\n",
    "# Looping over k = 1 to k = 11 features in X\n",
    "for k in range(1, len(X.columns) + 1):\n",
    "    \n",
    "    # Looping over all possible combinations: from 11 choose k\n",
    "    for combo in itertools.combinations(X.columns, k):\n",
    "        tmp_result = fit_linear_reg(X[list(combo)], Y)   # Store temp result \n",
    "        RSS_list.append(tmp_result)                  \n",
    "        feature_list.append(combo)\n",
    "        numb_features.append(len(combo))   \n",
    "\n",
    "# Store in DataFrame\n",
    "model_pool = pd.DataFrame({'numb_features': numb_features, 'RSS': RSS_list, 'features':feature_list})\n",
    "best_models = model_pool[model_pool.groupby('numb_features')['RSS'].transform(min) == model_pool['RSS']]\n",
    "best_RSS = list(best_models.RSS)"
   ]
  },
  {
   "cell_type": "code",
   "execution_count": 142,
   "metadata": {},
   "outputs": [],
   "source": [
    "# forward stepwise\n",
    "remaining_features = list(X.columns.values)\n",
    "features = []\n",
    "forward_RSS = []\n",
    "\n",
    "for i in range(1, k+1):\n",
    "    tmp_RSS = np.inf\n",
    "    \n",
    "    for combo in itertools.combinations(remaining_features, 1):\n",
    "        RSS = fit_linear_reg(X[list(combo) + features], Y)   #Store temp result \n",
    "        if RSS < tmp_RSS:\n",
    "            tmp_RSS = RSS\n",
    "            best_feature = combo[0]\n",
    "\n",
    "    #Updating variables for next loop\n",
    "    features.append(best_feature)\n",
    "    remaining_features.remove(best_feature)\n",
    "    \n",
    "    #Saving values for plotting\n",
    "    forward_RSS.append(tmp_RSS)"
   ]
  },
  {
   "cell_type": "code",
   "execution_count": 143,
   "metadata": {},
   "outputs": [],
   "source": [
    "# backward stepwise\n",
    "remaining_features = list(X.columns.values)\n",
    "backward_RSS = [] \n",
    "\n",
    "for i in range(k, 1, -1):\n",
    "    \n",
    "    \n",
    "    tmp_RSS = np.inf\n",
    "    \n",
    "    for combo in itertools.combinations(remaining_features, 1):\n",
    "        remaining_features.remove(combo[0])\n",
    "        RSS = fit_linear_reg(X[remaining_features], Y)  \n",
    "        remaining_features.append(combo[0])\n",
    "\n",
    "        if RSS < tmp_RSS:\n",
    "            tmp_RSS = RSS\n",
    "            worst_feature = combo[0]\n",
    "\n",
    "    # Updating variables for next loop\n",
    "    remaining_features.remove(worst_feature)\n",
    "    \n",
    "    # Saving values for plotting\n",
    "    backward_RSS.append(tmp_RSS)\n",
    "\n",
    "backward_RSS.insert(0, forward_RSS[10])"
   ]
  },
  {
   "cell_type": "code",
   "execution_count": 144,
   "metadata": {
    "scrolled": false
   },
   "outputs": [
    {
     "data": {
      "image/png": "[encoded data removed]",
      "text/plain": [
       "<Figure size 1152x432 with 1 Axes>"
      ]
     },
     "metadata": {
      "needs_background": "light"
     },
     "output_type": "display_data"
    }
   ],
   "source": [
    "fig = plt.figure(figsize = (16,6))\n",
    "ax = fig.add_subplot(1, 2, 1)\n",
    "\n",
    "ax.scatter(range(1, 12), best_RSS, color = 'g')\n",
    "ax.plot(range(1, 12), best_RSS, color = 'g', label=\"best\")\n",
    "\n",
    "ax.scatter(range(1, 12), forward_RSS, color = 'r')\n",
    "ax.plot(range(1, 12), forward_RSS, color = 'r', label = \"forward\")\n",
    "\n",
    "ax.scatter(range(11, 0, -1), backward_RSS, color = 'b')\n",
    "ax.plot(range(11, 0, -1), backward_RSS, color = 'b', label=\"backward\")\n",
    "\n",
    "ax.set_xlabel('# Features')\n",
    "ax.set_ylabel('RSS')\n",
    "ax.set_title('Subset Selection')\n",
    "ax.legend()\n",
    "\n",
    "plt.show()"
   ]
  },
  {
   "cell_type": "code",
   "execution_count": 156,
   "metadata": {},
   "outputs": [],
   "source": [
    "n = len(Y)\n",
    "sga_sqre = best_RSS[k-1]/n\n",
    "\n",
    "# Cp and BIC for best subset\n",
    "best_Cp, best_BIC = [], []\n",
    "for i in range(k):\n",
    "    best_Cp.append(1/n * (best_RSS[i]+2*(i+1)*sga_sqre))\n",
    "    best_BIC.append(1/n * (best_RSS[i]+np.log(n)*(i+1)*sga_sqre))\n",
    "    \n",
    "# Cp and BIC for forward stepwise\n",
    "fd_Cp, fd_BIC = [], []\n",
    "for i in range(k):\n",
    "    fd_Cp.append(1/n * (forward_RSS[i]+2*(i+1)*sga_sqre))\n",
    "    fd_BIC.append(1/n * (forward_RSS[i]+np.log(n)*(i+1)*sga_sqre))\n",
    "\n",
    "# Cp and BIC for backward stepwise\n",
    "bd_Cp, bd_BIC = [], []\n",
    "for i in range(k):\n",
    "    bd_Cp.append(1/n * (backward_RSS[i]+2*(i+1)*sga_sqre))\n",
    "    bd_BIC.append(1/n * (backward_RSS[i]+np.log(n)*(i+1)*sga_sqre))"
   ]
  },
  {
   "cell_type": "code",
   "execution_count": null,
   "metadata": {},
   "outputs": [],
   "source": []
  },
  {
   "cell_type": "code",
   "execution_count": null,
   "metadata": {},
   "outputs": [],
   "source": []
  },
  {
   "cell_type": "code",
   "execution_count": null,
   "metadata": {},
   "outputs": [],
   "source": []
  },
  {
   "cell_type": "code",
   "execution_count": null,
   "metadata": {},
   "outputs": [],
   "source": []
  },
  {
   "cell_type": "code",
   "execution_count": null,
   "metadata": {},
   "outputs": [],
   "source": []
  },
  {
   "cell_type": "code",
   "execution_count": null,
   "metadata": {},
   "outputs": [],
   "source": []
  },
  {
   "cell_type": "code",
   "execution_count": null,
   "metadata": {},
   "outputs": [],
   "source": []
  },
  {
   "cell_type": "code",
   "execution_count": null,
   "metadata": {},
   "outputs": [],
   "source": []
  },
  {
   "cell_type": "markdown",
   "metadata": {},
   "source": [
    "### Problem 3"
   ]
  },
  {
   "cell_type": "code",
   "execution_count": 1,
   "metadata": {},
   "outputs": [],
   "source": [
    "import pandas as pd\n",
    "import numpy as np\n",
    "import matplotlib.pyplot as plt\n",
    "from sklearn import svm\n",
    "from sklearn.model_selection import KFold\n",
    "import seaborn as sns\n",
    "\n",
    "%matplotlib inline\n",
    "plt.style.use(\"ggplot\")"
   ]
  },
  {
   "cell_type": "code",
   "execution_count": 2,
   "metadata": {},
   "outputs": [],
   "source": [
    "# load data\n",
    "x5 = pd.read_csv(\"/Users/apple/Desktop/semester_2/4.Stat_ML/hw/hw4/train.5.txt\", header = None)\n",
    "x6 = pd.read_csv(\"/Users/apple/Desktop/semester_2/4.Stat_ML/hw/hw4/train.6.txt\", header = None)\n",
    "\n",
    "y5 = np.repeat(-1, x5.shape[0])\n",
    "y6 = np.repeat(1, x6.shape[0])\n",
    "\n",
    "x = pd.concat([x5, x6], ignore_index=True)\n",
    "y = np.concatenate([y5, y6])\n",
    "\n",
    "np.random.seed(0)\n",
    "ind = np.random.choice(len(y), int(0.2*len(y)), replace=False)\n",
    "test_ind = [i in ind for i in range(len(y))]\n",
    "train_ind = [i not in ind for i in range(len(y))]\n",
    "\n",
    "test_x = x.loc[test_ind, :]\n",
    "test_x = test_x.reset_index(drop=True)\n",
    "test_y = y[test_ind, ]\n",
    "\n",
    "train_x = x.loc[train_ind, :]\n",
    "train_x = train_x.reset_index(drop=True)\n",
    "train_y = y[train_ind, ]"
   ]
  },
  {
   "cell_type": "code",
   "execution_count": null,
   "metadata": {
    "scrolled": false
   },
   "outputs": [],
   "source": [
    "# cross validation error\n",
    "def cv(x, y, m, k=4):\n",
    "    kf = KFold(n_splits=k)\n",
    "    err = []\n",
    "    \n",
    "    for train_ind, val_ind in kf.split(x):\n",
    "        x_train, x_val = x.loc[train_ind], x.loc[val_ind]\n",
    "        y_train, y_val = y[train_ind], y[val_ind]\n",
    "        m.fit(x_train, y_train)\n",
    "        err.append(sum(m.predict(x_val) != y_val))\n",
    "    \n",
    "    cv_err = np.sum(err)/len(y)\n",
    "    return cv_err"
   ]
  },
  {
   "cell_type": "code",
   "execution_count": 55,
   "metadata": {},
   "outputs": [
    {
     "data": {
      "image/png": "[encoded data removed]",
      "text/plain": [
       "<Figure size 432x288 with 1 Axes>"
      ]
     },
     "metadata": {
      "needs_background": "light"
     },
     "output_type": "display_data"
    }
   ],
   "source": [
    "# 1. (a)\n",
    "# margin parameters\n",
    "Cs = [1e-4, 1e-3, 1e-2, 0.05, 1e-1]\n",
    "\n",
    "CV_errs = []\n",
    "\n",
    "for i in Cs:\n",
    "    tmp_svm = svm.SVC(kernel=\"linear\", C = i)\n",
    "    CV_errs.append(cv(train_x, train_y, tmp_svm))\n",
    "    \n",
    "plt.plot(Cs, CV_errs)\n",
    "plt.show()"
   ]
  },
  {
   "cell_type": "code",
   "execution_count": 51,
   "metadata": {},
   "outputs": [
    {
     "data": {
      "image/png": "[encoded data removed]",
      "text/plain": [
       "<Figure size 432x288 with 2 Axes>"
      ]
     },
     "metadata": {
      "needs_background": "light"
     },
     "output_type": "display_data"
    }
   ],
   "source": [
    "# 1. (b)\n",
    "\n",
    "Cs = [0.01, 0.1, 0.5, 1, 5]\n",
    "gammas = [1e-5, 1e-4, 1e-3, 0.003]\n",
    "\n",
    "CV_mat = [[] for i in range(len(Cs))]\n",
    "\n",
    "for i in range(len(Cs)):\n",
    "    for j in range(len(gammas)):\n",
    "        tmp_svm = svm.SVC(C = Cs[i], gamma = gammas[j])\n",
    "        CV_mat[i].append(cv(train_x, train_y, tmp_svm))\n",
    "    \n",
    "sns.heatmap(CV_mat, cmap=\"YlGnBu\")\n",
    "plt.show()"
   ]
  },
  {
   "cell_type": "code",
   "execution_count": null,
   "metadata": {
    "scrolled": true
   },
   "outputs": [],
   "source": [
    "# 2.\n"
   ]
  },
  {
   "cell_type": "code",
   "execution_count": null,
   "metadata": {
    "scrolled": true
   },
   "outputs": [],
   "source": []
  },
  {
   "cell_type": "code",
   "execution_count": null,
   "metadata": {
    "scrolled": true
   },
   "outputs": [],
   "source": []
  },
  {
   "cell_type": "code",
   "execution_count": null,
   "metadata": {
    "scrolled": true
   },
   "outputs": [],
   "source": []
  },
  {
   "cell_type": "code",
   "execution_count": null,
   "metadata": {},
   "outputs": [],
   "source": []
  },
  {
   "cell_type": "code",
   "execution_count": null,
   "metadata": {
    "scrolled": false
   },
   "outputs": [],
   "source": []
  },
  {
   "cell_type": "code",
   "execution_count": null,
   "metadata": {},
   "outputs": [],
   "source": []
  },
  {
   "cell_type": "code",
   "execution_count": null,
   "metadata": {},
   "outputs": [],
   "source": []
  },
  {
   "cell_type": "code",
   "execution_count": null,
   "metadata": {},
   "outputs": [],
   "source": []
  },
  {
   "cell_type": "code",
   "execution_count": null,
   "metadata": {},
   "outputs": [],
   "source": []
  }
 ],
 "metadata": {
  "kernelspec": {
   "display_name": "Python 3",
   "language": "python",
   "name": "python3"
  },
  "language_info": {
   "codemirror_mode": {
    "name": "ipython",
    "version": 3
   },
   "file_extension": ".py",
   "mimetype": "text/x-python",
   "name": "python",
   "nbconvert_exporter": "python",
   "pygments_lexer": "ipython3",
   "version": "3.7.1"
  }
 },
 "nbformat": 4,
 "nbformat_minor": 2
}
